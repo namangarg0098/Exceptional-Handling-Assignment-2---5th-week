{
 "cells": [
  {
   "cell_type": "markdown",
   "id": "3c15bb59-d64e-443d-9c29-78713d6c802e",
   "metadata": {},
   "source": [
    "Q1 -> Explain why we have to use the Exception class while creating a Custom Exception."
   ]
  },
  {
   "cell_type": "code",
   "execution_count": null,
   "id": "c76d54a7-ab58-4f67-b53a-d50967074c6d",
   "metadata": {},
   "outputs": [],
   "source": [
    "# Built-in exceptions offer information about Python-related problems, and custom exceptions will add information about project-related problems. \n",
    "# That way, you can design your code (and traceback, if an exception is raised) in a way that combines Python code with the language of the project.\n"
   ]
  },
  {
   "cell_type": "code",
   "execution_count": null,
   "id": "b5281303-1694-48be-a970-51bd0c18b47a",
   "metadata": {},
   "outputs": [],
   "source": []
  },
  {
   "cell_type": "markdown",
   "id": "2034679d-158e-4ec2-a17d-30a8c39e1535",
   "metadata": {},
   "source": [
    "Q2 -> Write a python program to print Python Exception Hierarchy "
   ]
  },
  {
   "cell_type": "code",
   "execution_count": 3,
   "id": "edcf26d4-dcfc-45d6-9787-2ee6225e90b4",
   "metadata": {},
   "outputs": [
    {
     "name": "stdout",
     "output_type": "stream",
     "text": [
      "Inbuilt exceptions is: \n",
      " BaseException\n",
      "--- Exception\n",
      "------ TypeError\n",
      "--------- FloatOperation\n",
      "--------- MultipartConversionError\n",
      "------ StopAsyncIteration\n",
      "------ StopIteration\n",
      "------ ImportError\n",
      "--------- ModuleNotFoundError\n",
      "--------- ZipImportError\n",
      "------ OSError\n",
      "--------- ConnectionError\n",
      "------------ BrokenPipeError\n",
      "------------ ConnectionAbortedError\n",
      "------------ ConnectionRefusedError\n",
      "------------ ConnectionResetError\n",
      "--------------- RemoteDisconnected\n",
      "--------- BlockingIOError\n",
      "--------- ChildProcessError\n",
      "--------- FileExistsError\n",
      "--------- FileNotFoundError\n",
      "--------- IsADirectoryError\n",
      "--------- NotADirectoryError\n",
      "--------- InterruptedError\n",
      "------------ InterruptedSystemCall\n",
      "--------- PermissionError\n",
      "--------- ProcessLookupError\n",
      "--------- TimeoutError\n",
      "--------- UnsupportedOperation\n",
      "--------- itimer_error\n",
      "--------- herror\n",
      "--------- gaierror\n",
      "--------- SSLError\n",
      "------------ SSLCertVerificationError\n",
      "------------ SSLZeroReturnError\n",
      "------------ SSLWantWriteError\n",
      "------------ SSLWantReadError\n",
      "------------ SSLSyscallError\n",
      "------------ SSLEOFError\n",
      "--------- Error\n",
      "------------ SameFileError\n",
      "--------- SpecialFileError\n",
      "--------- ExecError\n",
      "--------- ReadError\n",
      "--------- URLError\n",
      "------------ HTTPError\n",
      "------------ ContentTooShortError\n",
      "--------- BadGzipFile\n",
      "------ EOFError\n",
      "--------- IncompleteReadError\n",
      "------ RuntimeError\n",
      "--------- RecursionError\n",
      "--------- NotImplementedError\n",
      "------------ ZMQVersionError\n",
      "------------ StdinNotImplementedError\n",
      "--------- _DeadlockError\n",
      "--------- BrokenBarrierError\n",
      "--------- BrokenExecutor\n",
      "------------ BrokenThreadPool\n",
      "--------- SendfileNotAvailableError\n",
      "--------- ExtractionError\n",
      "--------- VariableError\n",
      "------ NameError\n",
      "--------- UnboundLocalError\n",
      "------ AttributeError\n",
      "--------- FrozenInstanceError\n",
      "------ SyntaxError\n",
      "--------- IndentationError\n",
      "------------ TabError\n",
      "------ LookupError\n",
      "--------- IndexError\n",
      "--------- KeyError\n",
      "------------ NoSuchKernel\n",
      "------------ UnknownBackend\n",
      "--------- CodecRegistryError\n",
      "------ ValueError\n",
      "--------- UnicodeError\n",
      "------------ UnicodeEncodeError\n",
      "------------ UnicodeDecodeError\n",
      "------------ UnicodeTranslateError\n",
      "--------- UnsupportedOperation\n",
      "--------- JSONDecodeError\n",
      "--------- SSLCertVerificationError\n",
      "--------- Error\n",
      "--------- UnsupportedDigestmodError\n",
      "--------- IllegalMonthError\n",
      "--------- IllegalWeekdayError\n",
      "--------- ParserError\n",
      "--------- ClassNotFound\n",
      "--------- ClipboardEmpty\n",
      "--------- MessageDefect\n",
      "------------ NoBoundaryInMultipartDefect\n",
      "------------ StartBoundaryNotFoundDefect\n",
      "------------ CloseBoundaryNotFoundDefect\n",
      "------------ FirstHeaderLineIsContinuationDefect\n",
      "------------ MisplacedEnvelopeHeaderDefect\n",
      "------------ MissingHeaderBodySeparatorDefect\n",
      "------------ MultipartInvariantViolationDefect\n",
      "------------ InvalidMultipartContentTransferEncodingDefect\n",
      "------------ UndecodableBytesDefect\n",
      "------------ InvalidBase64PaddingDefect\n",
      "------------ InvalidBase64CharactersDefect\n",
      "------------ InvalidBase64LengthDefect\n",
      "------------ HeaderDefect\n",
      "--------------- InvalidHeaderDefect\n",
      "--------------- HeaderMissingRequiredValue\n",
      "--------------- NonPrintableDefect\n",
      "--------------- ObsoleteHeaderDefect\n",
      "--------------- NonASCIILocalPartDefect\n",
      "--------------- InvalidDateDefect\n",
      "--------- MacroToEdit\n",
      "--------- InvalidFileException\n",
      "--------- UnequalIterablesError\n",
      "--------- InvalidVersion\n",
      "--------- _InvalidELFFileHeader\n",
      "--------- InvalidWheelFilename\n",
      "--------- InvalidSdistFilename\n",
      "--------- InvalidSpecifier\n",
      "--------- InvalidMarker\n",
      "--------- UndefinedComparison\n",
      "--------- UndefinedEnvironmentName\n",
      "--------- InvalidRequirement\n",
      "------------ RequirementParseError\n",
      "--------- InvalidVersion\n",
      "------ AssertionError\n",
      "------ ArithmeticError\n",
      "--------- FloatingPointError\n",
      "--------- OverflowError\n",
      "--------- ZeroDivisionError\n",
      "------------ DivisionByZero\n",
      "------------ DivisionUndefined\n",
      "--------- DecimalException\n",
      "------------ Clamped\n",
      "------------ Rounded\n",
      "--------------- Underflow\n",
      "--------------- Overflow\n",
      "------------ Inexact\n",
      "--------------- Underflow\n",
      "--------------- Overflow\n",
      "------------ Subnormal\n",
      "--------------- Underflow\n",
      "------------ DivisionByZero\n",
      "------------ FloatOperation\n",
      "------------ InvalidOperation\n",
      "--------------- ConversionSyntax\n",
      "--------------- DivisionImpossible\n",
      "--------------- DivisionUndefined\n",
      "--------------- InvalidContext\n",
      "------ SystemError\n",
      "--------- CodecRegistryError\n",
      "------ ReferenceError\n",
      "------ MemoryError\n",
      "------ BufferError\n",
      "------ Warning\n",
      "--------- UserWarning\n",
      "------------ GetPassWarning\n",
      "------------ FormatterWarning\n",
      "--------- EncodingWarning\n",
      "--------- DeprecationWarning\n",
      "------------ ProvisionalWarning\n",
      "--------- PendingDeprecationWarning\n",
      "--------- SyntaxWarning\n",
      "--------- RuntimeWarning\n",
      "------------ ProactorSelectorThreadWarning\n",
      "------------ UnknownTimezoneWarning\n",
      "------------ PEP440Warning\n",
      "--------- FutureWarning\n",
      "------------ ProvisionalCompleterWarning\n",
      "--------- ImportWarning\n",
      "--------- UnicodeWarning\n",
      "--------- BytesWarning\n",
      "--------- ResourceWarning\n",
      "--------- DeprecatedTzFormatWarning\n",
      "--------- PkgResourcesDeprecationWarning\n",
      "------ _OptionError\n",
      "------ _Error\n",
      "------ error\n",
      "------ Verbose\n",
      "------ Error\n",
      "------ SubprocessError\n",
      "--------- CalledProcessError\n",
      "--------- TimeoutExpired\n",
      "------ TokenError\n",
      "------ StopTokenizing\n",
      "------ ClassFoundException\n",
      "------ EndOfBlock\n",
      "------ TraitError\n",
      "------ Error\n",
      "------ Error\n",
      "--------- CancelledError\n",
      "--------- TimeoutError\n",
      "--------- InvalidStateError\n",
      "------ _GiveupOnSendfile\n",
      "------ error\n",
      "------ Incomplete\n",
      "------ TimeoutError\n",
      "------ InvalidStateError\n",
      "------ LimitOverrunError\n",
      "------ QueueEmpty\n",
      "------ QueueFull\n",
      "------ Empty\n",
      "------ Full\n",
      "------ ArgumentError\n",
      "------ ZMQBaseError\n",
      "--------- ZMQError\n",
      "------------ ContextTerminated\n",
      "------------ Again\n",
      "------------ InterruptedSystemCall\n",
      "--------- ZMQBindError\n",
      "--------- NotDone\n",
      "------ PickleError\n",
      "--------- PicklingError\n",
      "--------- UnpicklingError\n",
      "------ _Stop\n",
      "------ ArgumentError\n",
      "------ ArgumentTypeError\n",
      "------ ConfigError\n",
      "--------- ConfigLoaderError\n",
      "------------ ArgumentError\n",
      "--------- ConfigFileNotFound\n",
      "------ ConfigurableError\n",
      "--------- MultipleInstanceError\n",
      "------ ApplicationError\n",
      "------ error\n",
      "------ TimeoutError\n",
      "------ error\n",
      "------ ReturnValueIgnoredError\n",
      "------ KeyReuseError\n",
      "------ UnknownKeyError\n",
      "------ LeakedCallbackError\n",
      "------ BadYieldError\n",
      "------ ReturnValueIgnoredError\n",
      "------ Return\n",
      "------ InvalidPortNumber\n",
      "------ error\n",
      "------ LZMAError\n",
      "------ RegistryError\n",
      "------ _GiveupOnFastCopy\n",
      "------ Error\n",
      "--------- NoSectionError\n",
      "--------- DuplicateSectionError\n",
      "--------- DuplicateOptionError\n",
      "--------- NoOptionError\n",
      "--------- InterpolationError\n",
      "------------ InterpolationMissingOptionError\n",
      "------------ InterpolationSyntaxError\n",
      "------------ InterpolationDepthError\n",
      "--------- ParsingError\n",
      "------------ MissingSectionHeaderError\n",
      "------ NoIPAddresses\n",
      "------ BadZipFile\n",
      "------ LargeZipFile\n",
      "------ BadEntryPoint\n",
      "------ NoSuchEntryPoint\n",
      "------ DuplicateKernelError\n",
      "------ ErrorDuringImport\n",
      "------ NotOneValueFound\n",
      "------ CannotEval\n",
      "------ OptionError\n",
      "------ BdbQuit\n",
      "------ Restart\n",
      "------ ExceptionPexpect\n",
      "--------- EOF\n",
      "--------- TIMEOUT\n",
      "------ PtyProcessError\n",
      "------ FindCmdError\n",
      "------ HomeDirError\n",
      "------ ProfileDirError\n",
      "------ IPythonCoreError\n",
      "--------- TryNext\n",
      "--------- UsageError\n",
      "--------- StdinNotImplementedError\n",
      "------ InputRejected\n",
      "------ GetoptError\n",
      "------ ErrorToken\n",
      "------ PrefilterError\n",
      "------ AliasError\n",
      "--------- InvalidAliasError\n",
      "------ Error\n",
      "--------- InterfaceError\n",
      "--------- DatabaseError\n",
      "------------ InternalError\n",
      "------------ OperationalError\n",
      "------------ ProgrammingError\n",
      "------------ IntegrityError\n",
      "------------ DataError\n",
      "------------ NotSupportedError\n",
      "------ Warning\n",
      "------ SpaceInInput\n",
      "------ DOMException\n",
      "--------- IndexSizeErr\n",
      "--------- DomstringSizeErr\n",
      "--------- HierarchyRequestErr\n",
      "--------- WrongDocumentErr\n",
      "--------- InvalidCharacterErr\n",
      "--------- NoDataAllowedErr\n",
      "--------- NoModificationAllowedErr\n",
      "--------- NotFoundErr\n",
      "--------- NotSupportedErr\n",
      "--------- InuseAttributeErr\n",
      "--------- InvalidStateErr\n",
      "--------- SyntaxErr\n",
      "--------- InvalidModificationErr\n",
      "--------- NamespaceErr\n",
      "--------- InvalidAccessErr\n",
      "--------- ValidationErr\n",
      "------ ValidationError\n",
      "------ EditReadOnlyBuffer\n",
      "------ _Retry\n",
      "------ InvalidLayoutError\n",
      "------ HeightIsUnknownError\n",
      "------ ParserSyntaxError\n",
      "------ InternalParseError\n",
      "------ _PositionUpdatingFinished\n",
      "------ SimpleGetItemNotFound\n",
      "------ UncaughtAttributeError\n",
      "------ HasNoContext\n",
      "------ ParamIssue\n",
      "------ _JediError\n",
      "--------- InternalError\n",
      "--------- WrongVersion\n",
      "--------- RefactoringError\n",
      "------ OnErrorLeaf\n",
      "------ InvalidPythonEnvironment\n",
      "------ MessageError\n",
      "--------- MessageParseError\n",
      "------------ HeaderParseError\n",
      "------------ BoundaryError\n",
      "--------- MultipartConversionError\n",
      "--------- CharsetError\n",
      "------ Error\n",
      "------ HTTPException\n",
      "--------- NotConnected\n",
      "--------- InvalidURL\n",
      "--------- UnknownProtocol\n",
      "--------- UnknownTransferEncoding\n",
      "--------- UnimplementedFileMode\n",
      "--------- IncompleteRead\n",
      "--------- ImproperConnectionState\n",
      "------------ CannotSendRequest\n",
      "------------ CannotSendHeader\n",
      "------------ ResponseNotReady\n",
      "--------- BadStatusLine\n",
      "------------ RemoteDisconnected\n",
      "--------- LineTooLong\n",
      "------ InteractivelyDefined\n",
      "------ KillEmbedded\n",
      "------ Error\n",
      "--------- NoSuchProcess\n",
      "------------ ZombieProcess\n",
      "--------- AccessDenied\n",
      "--------- TimeoutExpired\n",
      "------ _Ipv6UnsupportedError\n",
      "------ QueueEmpty\n",
      "------ QueueFull\n",
      "------ DebuggerInitializationError\n",
      "------ ExpatError\n",
      "------ Error\n",
      "--------- ProtocolError\n",
      "--------- ResponseError\n",
      "--------- Fault\n",
      "------ ParseBaseException\n",
      "--------- ParseException\n",
      "--------- ParseFatalException\n",
      "------------ ParseSyntaxException\n",
      "------ RecursiveGrammarException\n",
      "------ ResolutionError\n",
      "--------- VersionConflict\n",
      "------------ ContextualVersionConflict\n",
      "--------- DistributionNotFound\n",
      "--------- UnknownExtra\n",
      "------ _Error\n",
      "------ UnableToResolveVariableException\n",
      "------ InvalidTypeInArgsException\n",
      "--- GeneratorExit\n",
      "--- SystemExit\n",
      "--- KeyboardInterrupt\n",
      "--- CancelledError\n",
      "--- AbortThread\n"
     ]
    }
   ],
   "source": [
    "# Inbuilt exceptions:\n",
    "# Import the inspect module\n",
    "import inspect as ipt\n",
    "def tree_class(cls, ind = 0):\n",
    "    print ('-' * ind, cls.__name__)\n",
    "    for K in cls.__subclasses__():\n",
    "        tree_class(K, ind + 3)\n",
    "print (\"Inbuilt exceptions is: \")\n",
    "# THE inspect.getmro() will return the tuple.\n",
    "# of class which is cls's base classes.\n",
    "#The next step is to create a tree hierarchy.\n",
    "ipt.getclasstree(ipt.getmro(BaseException))\n",
    "# function call\n",
    "tree_class(BaseException)"
   ]
  },
  {
   "cell_type": "code",
   "execution_count": null,
   "id": "3bc02970-9b7d-4fce-9081-c78e8ac30a6c",
   "metadata": {},
   "outputs": [],
   "source": []
  },
  {
   "cell_type": "code",
   "execution_count": null,
   "id": "6ead8834-6c4b-4f94-97f1-f273bb660b43",
   "metadata": {},
   "outputs": [],
   "source": []
  },
  {
   "cell_type": "markdown",
   "id": "1cb2ee9e-70d7-4e32-864f-89bc54c9335c",
   "metadata": {},
   "source": [
    "Q3 -> What errors are defined in the ArithmeticError class ? Explain any two with example "
   ]
  },
  {
   "cell_type": "code",
   "execution_count": 7,
   "id": "1ede1f64-f43e-495f-9b03-93db69da8994",
   "metadata": {},
   "outputs": [],
   "source": [
    "# The ArithmeticError exception class serves as a base class for those built-in exceptions that are raised due to various arithmetic errors like OverflowError, ZeroDivisionError,\n",
    "# FloatingPointError. It can be seen that dividing five by zero results in ZeroDivisionError, which is a child of the ArithmeticError class.30-Jun-2023\n",
    "\n",
    "\n",
    "# ArithmeticError is simply an error that occurs during numeric calculations. ArithmeticError types in Python include: OverFlowError. ZeroDivisionError."
   ]
  },
  {
   "cell_type": "code",
   "execution_count": 6,
   "id": "73895de4-36fb-44bf-8865-eb7998ed5b2d",
   "metadata": {},
   "outputs": [
    {
     "ename": "ZeroDivisionError",
     "evalue": "division by zero",
     "output_type": "error",
     "traceback": [
      "\u001b[0;31m---------------------------------------------------------------------------\u001b[0m",
      "\u001b[0;31mZeroDivisionError\u001b[0m                         Traceback (most recent call last)",
      "Cell \u001b[0;32mIn[6], line 1\u001b[0m\n\u001b[0;32m----> 1\u001b[0m x \u001b[38;5;241m=\u001b[39m \u001b[38;5;241;43m5\u001b[39;49m\u001b[38;5;241;43m/\u001b[39;49m\u001b[38;5;241;43m0\u001b[39;49m\n\u001b[1;32m      2\u001b[0m \u001b[38;5;28mprint\u001b[39m(x)             \u001b[38;5;66;03m#-> ZeroDivisionError is an airthmetic error \u001b[39;00m\n",
      "\u001b[0;31mZeroDivisionError\u001b[0m: division by zero"
     ]
    }
   ],
   "source": [
    "x = 5/0\n",
    "print(x)             #-> ZeroDivisionError is an airthmetic error "
   ]
  },
  {
   "cell_type": "code",
   "execution_count": 8,
   "id": "4e9190f9-6d8a-4cfb-8126-02a53c0fc45a",
   "metadata": {},
   "outputs": [
    {
     "name": "stdout",
     "output_type": "stream",
     "text": [
      "division by zero\n"
     ]
    }
   ],
   "source": [
    "try:\n",
    "    x = 5/0\n",
    "    print(x)\n",
    "except ZeroDivisionError as e :\n",
    "    print(e)"
   ]
  },
  {
   "cell_type": "code",
   "execution_count": 9,
   "id": "33ae8ae8-d101-4547-9c64-2a6dd47f5134",
   "metadata": {},
   "outputs": [
    {
     "name": "stdout",
     "output_type": "stream",
     "text": [
      "(34, 'Numerical result out of range'), <class 'OverflowError'>\n"
     ]
    }
   ],
   "source": [
    "j = 5.0\n",
    "\n",
    "try:\n",
    "    for i in range(1, 1000):\n",
    "        j = j**i\n",
    "except ArithmeticError as e:\n",
    "    print(f\"{e}, {e.__class__}\")"
   ]
  },
  {
   "cell_type": "code",
   "execution_count": 13,
   "id": "b59fd66d-b0b7-4e73-b7ab-d05fd26d1bc5",
   "metadata": {},
   "outputs": [
    {
     "name": "stdout",
     "output_type": "stream",
     "text": [
      "0 3.0\n",
      "1 9.0\n",
      "2 81.0\n",
      "3 6561.0\n",
      "4 43046721.0\n",
      "5 1853020188851841.0\n",
      "6 3.4336838202925124e+30\n",
      "7 1.1790184577738583e+61\n",
      "8 1.3900845237714473e+122\n",
      "9 1.9323349832288915e+244\n",
      "Overflowed after  1.9323349832288915e+244 (34, 'Numerical result out of range')\n"
     ]
    }
   ],
   "source": [
    "i=1\n",
    "try:\n",
    "    f = 3.0**i\n",
    "    for i in range(100):\n",
    "        print (i, f)\n",
    "        f = f ** 2\n",
    "except OverflowError as err:\n",
    "    print ('Overflowed after ', f, err)"
   ]
  },
  {
   "cell_type": "markdown",
   "id": "5634bdd2-c174-4f0f-a006-eaab7bc7d02c",
   "metadata": {},
   "source": [
    "Q4 -> Why LookupError class is used? Explain with an example KeyErrror and IndexError"
   ]
  },
  {
   "cell_type": "code",
   "execution_count": 17,
   "id": "fe6b9f39-2bde-47b0-aa06-d052c0b3ff07",
   "metadata": {},
   "outputs": [],
   "source": [
    "# LookupError Exception is the Base class for errors raised when something can’t be found. The base class for the exceptions that are raised when a key or index used on\n",
    "# a mapping or sequence is invalid: IndexError, KeyError.\n",
    "\n",
    "# An IndexError is raised when a sequence reference is out of range."
   ]
  },
  {
   "cell_type": "code",
   "execution_count": null,
   "id": "77bf12cb-4a27-4dc1-9a2a-1741262c03f4",
   "metadata": {},
   "outputs": [],
   "source": [
    "# The LookupError exception in Python forms the base class for all exceptions that are raised when an index or a key is not found for a sequence or dictionary respectively.\n",
    "# You can use LookupError exception class to handle both IndexError and KeyError exception classes.\n"
   ]
  },
  {
   "cell_type": "code",
   "execution_count": 21,
   "id": "84c49d43-38dd-4ae3-97cf-7db82642cc4f",
   "metadata": {},
   "outputs": [
    {
     "name": "stdout",
     "output_type": "stream",
     "text": [
      "list index out of range, <class 'IndexError'>\n"
     ]
    }
   ],
   "source": [
    "# Handling IndexError exception\n",
    "# list\n",
    "try:\n",
    "    n = ['a', 's', 'd', 'f', 'g']\n",
    "    print(n[5])\n",
    "except IndexError as e:\n",
    "    print(f\"{e}, {e.__class__}\")"
   ]
  },
  {
   "cell_type": "code",
   "execution_count": 18,
   "id": "8b2b2ab3-2fb2-48e8-9fec-c82dff7b0800",
   "metadata": {},
   "outputs": [
    {
     "name": "stdout",
     "output_type": "stream",
     "text": [
      "tuple index out of range, <class 'IndexError'>\n"
     ]
    }
   ],
   "source": [
    "# Handling IndexError exception\n",
    "# tuples\n",
    "x = (1, 2, 3, 4)\n",
    "try:\n",
    "    print(x[10])\n",
    "except LookupError as e:\n",
    "    print(f\"{e}, {e.__class__}\")"
   ]
  },
  {
   "cell_type": "code",
   "execution_count": 19,
   "id": "d6615f30-d505-4bcd-93ba-a34b795a2622",
   "metadata": {},
   "outputs": [
    {
     "name": "stdout",
     "output_type": "stream",
     "text": [
      "string index out of range, <class 'IndexError'>\n"
     ]
    }
   ],
   "source": [
    "# Handling IndexError exception\n",
    "# strings\n",
    "x = \"Pylenin\"\n",
    "try:\n",
    "    print(x[10])\n",
    "except LookupError as e:\n",
    "    print(f\"{e}, {e.__class__}\")\n"
   ]
  },
  {
   "cell_type": "code",
   "execution_count": 1,
   "id": "999f64ec-d664-4bff-ad34-7bc35374852b",
   "metadata": {},
   "outputs": [
    {
     "name": "stdin",
     "output_type": "stream",
     "text": [
      "What do you want to learn about person==>  girlfriend\n"
     ]
    },
    {
     "name": "stdout",
     "output_type": "stream",
     "text": [
      "'girlfriend', <class 'KeyError'>\n"
     ]
    }
   ],
   "source": [
    "# Handling KeyError exception\n",
    "\n",
    "person_info = {'name': 'rahul sharma',\n",
    "                'age': 28,\n",
    "                'language': 'Python'}\n",
    "user_input = input('What do you want to learn about person==> ')\n",
    "\n",
    "try:\n",
    "    print(f'{user_input} is {person_info[user_input]}')\n",
    "except LookupError as e:\n",
    "    print(f'{e}, {e.__class__}')\n"
   ]
  },
  {
   "cell_type": "code",
   "execution_count": null,
   "id": "385ba5ba-4ca0-4a60-adba-11c416f5fe91",
   "metadata": {},
   "outputs": [],
   "source": []
  },
  {
   "cell_type": "markdown",
   "id": "042a34ec-7a96-4934-a0d7-2672b6a6579d",
   "metadata": {},
   "source": [
    "Q5 -> Explain ImportError. What is ModuleNotFoundError? "
   ]
  },
  {
   "cell_type": "code",
   "execution_count": 3,
   "id": "b0bdf386-f4d6-46d2-b97e-7b5c19c88c17",
   "metadata": {},
   "outputs": [],
   "source": [
    "# In Python, ImportError occurs when the Python program tries to import module which does not exist in the private table.\n",
    "# This exception can be avoided using exception handling using try and except blocks."
   ]
  },
  {
   "cell_type": "code",
   "execution_count": 11,
   "id": "8aae6d3e-f4b9-4d05-abe5-0ab2b5275e9d",
   "metadata": {},
   "outputs": [],
   "source": [
    "# The 'module not found' error in Python occurs when the interpreter is unable to import the specified module."
   ]
  },
  {
   "cell_type": "code",
   "execution_count": 7,
   "id": "92e2156c-92f1-4d9d-acfd-69c4435a5526",
   "metadata": {},
   "outputs": [
    {
     "name": "stdout",
     "output_type": "stream",
     "text": [
      "No module named 'exception'\n"
     ]
    }
   ],
   "source": [
    "# for ex -:\n",
    "\n",
    "try:\n",
    "    from exception import myexception\n",
    "except Exception as e:\n",
    "    print(e)\n",
    "    "
   ]
  },
  {
   "cell_type": "code",
   "execution_count": 10,
   "id": "32f78a01-f6e7-4ac5-b64e-6f143d6db0ae",
   "metadata": {},
   "outputs": [
    {
     "name": "stdout",
     "output_type": "stream",
     "text": [
      "cannot import name 'datetime' from 'time' (unknown location)\n"
     ]
    },
    {
     "ename": "AttributeError",
     "evalue": "module 'sys' has no attribute 'exc_type'",
     "output_type": "error",
     "traceback": [
      "\u001b[0;31m---------------------------------------------------------------------------\u001b[0m",
      "\u001b[0;31mImportError\u001b[0m                               Traceback (most recent call last)",
      "Cell \u001b[0;32mIn[10], line 3\u001b[0m\n\u001b[1;32m      2\u001b[0m \u001b[38;5;28;01mtry\u001b[39;00m:\n\u001b[0;32m----> 3\u001b[0m     \u001b[38;5;28;01mfrom\u001b[39;00m \u001b[38;5;21;01mtime\u001b[39;00m \u001b[38;5;28;01mimport\u001b[39;00m datetime\n\u001b[1;32m      4\u001b[0m \u001b[38;5;28;01mexcept\u001b[39;00m \u001b[38;5;167;01mException\u001b[39;00m \u001b[38;5;28;01mas\u001b[39;00m e:\n",
      "\u001b[0;31mImportError\u001b[0m: cannot import name 'datetime' from 'time' (unknown location)",
      "\nDuring handling of the above exception, another exception occurred:\n",
      "\u001b[0;31mAttributeError\u001b[0m                            Traceback (most recent call last)",
      "Cell \u001b[0;32mIn[10], line 6\u001b[0m\n\u001b[1;32m      4\u001b[0m \u001b[38;5;28;01mexcept\u001b[39;00m \u001b[38;5;167;01mException\u001b[39;00m \u001b[38;5;28;01mas\u001b[39;00m e:\n\u001b[1;32m      5\u001b[0m     \u001b[38;5;28mprint\u001b[39m (e)\n\u001b[0;32m----> 6\u001b[0m     \u001b[38;5;28mprint\u001b[39m (\u001b[43msys\u001b[49m\u001b[38;5;241;43m.\u001b[39;49m\u001b[43mexc_type\u001b[49m)\n",
      "\u001b[0;31mAttributeError\u001b[0m: module 'sys' has no attribute 'exc_type'"
     ]
    }
   ],
   "source": [
    "import sys\n",
    "try:\n",
    "    from time import datetime\n",
    "except Exception as e:\n",
    "    print (e)\n",
    "    print (sys.exc_type)"
   ]
  },
  {
   "cell_type": "code",
   "execution_count": 12,
   "id": "beb657fc-859f-4966-83d0-8a755f5260d2",
   "metadata": {},
   "outputs": [
    {
     "ename": "ModuleNotFoundError",
     "evalue": "No module named 'naman'",
     "output_type": "error",
     "traceback": [
      "\u001b[0;31m---------------------------------------------------------------------------\u001b[0m",
      "\u001b[0;31mModuleNotFoundError\u001b[0m                       Traceback (most recent call last)",
      "Cell \u001b[0;32mIn[12], line 3\u001b[0m\n\u001b[1;32m      1\u001b[0m \u001b[38;5;66;03m# for ex -:\u001b[39;00m\n\u001b[0;32m----> 3\u001b[0m \u001b[38;5;28;01mimport\u001b[39;00m \u001b[38;5;21;01mnaman\u001b[39;00m             \u001b[38;5;66;03m#-> ModuleNotFoundError\u001b[39;00m\n",
      "\u001b[0;31mModuleNotFoundError\u001b[0m: No module named 'naman'"
     ]
    }
   ],
   "source": [
    "# for ex -:\n",
    "\n",
    "import naman             #-> ModuleNotFoundError"
   ]
  },
  {
   "cell_type": "code",
   "execution_count": null,
   "id": "d85ef47d-ca04-4a14-b1b6-3919bc1dbe07",
   "metadata": {},
   "outputs": [],
   "source": []
  },
  {
   "cell_type": "code",
   "execution_count": null,
   "id": "c5dcd3f3-8210-4d04-a7b6-f6f3253de2c2",
   "metadata": {},
   "outputs": [],
   "source": []
  },
  {
   "cell_type": "markdown",
   "id": "c4b82f2c-f78a-4d4e-a418-b0ed054823fc",
   "metadata": {},
   "source": [
    "Q6 -> List down some best practices for exception handling in python."
   ]
  },
  {
   "cell_type": "code",
   "execution_count": 14,
   "id": "fb884a00-9a90-49d1-864a-0013be8e2fd1",
   "metadata": {},
   "outputs": [
    {
     "name": "stdout",
     "output_type": "stream",
     "text": [
      "division by zero\n"
     ]
    }
   ],
   "source": [
    "# 1) use always a specific exception\n",
    "try :\n",
    "    10/0\n",
    "except ZeroDivisionError as e :\n",
    "    print(e)"
   ]
  },
  {
   "cell_type": "code",
   "execution_count": 15,
   "id": "b30dc004-e821-4b93-87b0-638349207c82",
   "metadata": {},
   "outputs": [
    {
     "name": "stdout",
     "output_type": "stream",
     "text": [
      "i am trying to handle a zerodivision error division by zero\n"
     ]
    }
   ],
   "source": [
    "# 2) Print always a proper message \n",
    "try :\n",
    "    10/0\n",
    "except ZeroDivisionError as e :\n",
    "    print('i am trying to handle a zerodivision error', e)"
   ]
  },
  {
   "cell_type": "code",
   "execution_count": 17,
   "id": "4d8b051f-25d0-4ffb-905f-1ecb167b2f31",
   "metadata": {},
   "outputs": [],
   "source": [
    "# 3) Always try to log your error\n",
    "import logging\n",
    "logging.basicConfig(filename = 'error.log', level = logging.ERROR)\n",
    "\n",
    "try :\n",
    "    10/0\n",
    "except ZeroDivisionError as e :\n",
    "    logging.error(f'i am trying to handle a zerodivision error {e}')"
   ]
  },
  {
   "cell_type": "code",
   "execution_count": 19,
   "id": "a7b9c4a7-55b4-4a08-abd7-2306a4a0b22d",
   "metadata": {},
   "outputs": [],
   "source": [
    "# 4) Always avoid to write a multiple exceptional handling "
   ]
  },
  {
   "cell_type": "code",
   "execution_count": 18,
   "id": "eb925cdd-13cb-48cb-81d1-92c3a8521470",
   "metadata": {},
   "outputs": [],
   "source": [
    "try :\n",
    "    10/0\n",
    "except FileNotFoundError as e :\n",
    "    logging.error(f'i am handling file not found error {e}')\n",
    "except AttributeError as e :\n",
    "    logging.error(f'i am handling Attribute error {e}')\n",
    "except ZeroDivisionError as e :\n",
    "    logging.error(f'i am handling zerodivision error {e}')"
   ]
  },
  {
   "cell_type": "code",
   "execution_count": 20,
   "id": "a8094af4-15b0-45e7-bf2c-e30fa4dc6fc8",
   "metadata": {},
   "outputs": [],
   "source": [
    "# 5) Document all the error "
   ]
  },
  {
   "cell_type": "code",
   "execution_count": 21,
   "id": "30758bab-00f8-4503-8f1b-bfc1a880bc08",
   "metadata": {},
   "outputs": [],
   "source": [
    "# 6) Cleanup all the resources \n",
    "\n",
    "try :\n",
    "    with open('name.txt','w') as f:\n",
    "        f.write('this is my first file to create')\n",
    "except FileNotFoundError as e :\n",
    "    logging.error(f'i am handling file not found error {e}')\n",
    "finally :\n",
    "    f.close()"
   ]
  },
  {
   "cell_type": "code",
   "execution_count": 22,
   "id": "203d3198-bf80-4ded-9607-4676518234f7",
   "metadata": {},
   "outputs": [],
   "source": [
    "# Summarising\n",
    "# 1) use always a specific exception\n",
    "# 2) Print always a proper message\n",
    "# 3) Always try to log your error\n",
    "# 4) Always avoid to write a multiple exceptional handling \n",
    "# 5) Document all the error \n",
    "# 6) Cleanup all the resources "
   ]
  },
  {
   "cell_type": "code",
   "execution_count": null,
   "id": "fa4798e4-0475-4b0a-ba3e-71ac05d5fdba",
   "metadata": {},
   "outputs": [],
   "source": []
  }
 ],
 "metadata": {
  "kernelspec": {
   "display_name": "Python 3 (ipykernel)",
   "language": "python",
   "name": "python3"
  },
  "language_info": {
   "codemirror_mode": {
    "name": "ipython",
    "version": 3
   },
   "file_extension": ".py",
   "mimetype": "text/x-python",
   "name": "python",
   "nbconvert_exporter": "python",
   "pygments_lexer": "ipython3",
   "version": "3.10.8"
  }
 },
 "nbformat": 4,
 "nbformat_minor": 5
}
